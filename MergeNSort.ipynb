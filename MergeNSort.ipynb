{
 "cells": [
  {
   "cell_type": "code",
   "execution_count": null,
   "metadata": {},
   "outputs": [],
   "source": [
    "import os\n",
    "import pandas as pd\n",
    "import numpy as np\n",
    "\n",
    "# Set the path of the CSV files\n",
    "directory = \"C:/Users/Chetan/Desktop/Testing\"\n",
    "\n",
    "all_dfs = []\n",
    "\n",
    "# Loop through all files in the path\n",
    "for filename in os.listdir(directory):\n",
    "    if filename.endswith(\".csv\"):\n",
    "        df = pd.read_csv(os.path.join(directory, filename), parse_dates=[\"Date\"])\n",
    "        all_dfs.append(df)\n",
    "\n",
    "# Merge all data frames into a single data frame\n",
    "merged_df = pd.concat(all_dfs, sort=False)\n",
    "\n",
    "# Keep only latest date for each ID\n",
    "merged_df = merged_df.sort_values([\"ID\", \"Date\"]).drop_duplicates(\"ID\", keep=\"last\")\n",
    "\n",
    "merged_df = merged_df.groupby([\"Date\", \"ID\"], as_index=False).sum()\n",
    "\n",
    "merged_df = merged_df.replace(0, np.nan)\n",
    "\n",
    "merged_df = merged_df.sort_values([\"ID\", \"Date\"])\n",
    "\n",
    "# Saving merged data\n",
    "merged_df.to_csv(\"merged.csv\", index=False)"
   ]
  }
 ],
 "metadata": {
  "kernelspec": {
   "display_name": "base",
   "language": "python",
   "name": "python3"
  },
  "language_info": {
   "codemirror_mode": {
    "name": "ipython",
    "version": 3
   },
   "file_extension": ".py",
   "mimetype": "text/x-python",
   "name": "python",
   "nbconvert_exporter": "python",
   "pygments_lexer": "ipython3",
   "version": "3.9.13"
  },
  "orig_nbformat": 4,
  "vscode": {
   "interpreter": {
    "hash": "ad2bdc8ecc057115af97d19610ffacc2b4e99fae6737bb82f5d7fb13d2f2c186"
   }
  }
 },
 "nbformat": 4,
 "nbformat_minor": 2
}
